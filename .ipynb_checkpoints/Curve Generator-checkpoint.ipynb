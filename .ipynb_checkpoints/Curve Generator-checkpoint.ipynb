{
 "cells": [
  {
   "cell_type": "code",
   "execution_count": 5,
   "metadata": {},
   "outputs": [],
   "source": [
    "import matplotlib.pyplot as plt \n",
    "import numpy as np\n",
    "import random \n",
    "from mpl_toolkits import mplot3d\n",
    "import pandas as pd"
   ]
  },
  {
   "cell_type": "markdown",
   "metadata": {},
   "source": [
    "# Updated Code"
   ]
  },
  {
   "cell_type": "code",
   "execution_count": 30,
   "metadata": {},
   "outputs": [],
   "source": [
    "def decreasingSeqGen(p,k):\n",
    "    \"\"\"\n",
    "    Input: Lower limit and higher limit (int)\n",
    "    Output: List of length K with random values between low and high\n",
    "    \"\"\"\n",
    "    decreasingSeq = []\n",
    "    for i in range(k):\n",
    "        # mean = a, var = b^2\n",
    "        decreasingSeq.append(np.random.normal(0, 1/(np.power(i+1, p))))\n",
    "    return decreasingSeq\n",
    "\n",
    "def genTrigFun(a_k, b_k, k):\n",
    "    \"\"\"\n",
    "    Input: Two sequences of length K\n",
    "    Output: Trig function f(t) with coefficients corresponding to sequences a_k, b_k\n",
    "    \"\"\"\n",
    "    def fun_t (t):\n",
    "        sum = 0\n",
    "        for i in range(k):\n",
    "            sum += a_k[i]*np.sin(i*t) + b_k[i]*np.cos(i*t)\n",
    "        return sum\n",
    "    return (fun_t)\n",
    "\n",
    "def speed(x_t, y_t):\n",
    "    \"\"\"\n",
    "    Input: 2 arrays of length of TIME_T\n",
    "    Output: 1 array of length of TIME_T representing the speed \n",
    "    \"\"\"\n",
    "    return np.sqrt(np.gradient(x_t)**2 + np.gradient(y_t)**2)\n",
    "    \n",
    "def curvature(x_t, y_t):\n",
    "    \"\"\"\n",
    "    Input: 2 arrays of length of TIME_T\n",
    "    Output: 1 array of length of TIME_T representing the curvature\n",
    "    \"\"\"\n",
    "    # TODO: USE DETERMINANT TO SCALE UP EASIER\n",
    "    \n",
    "    num = abs(np.gradient(x_t)*np.gradient(np.gradient(y_t))\n",
    "             - np.gradient(y_t)*np.gradient(np.gradient(x_t)))\n",
    "    denom = speed(x_t, y_t) ** 3\n",
    "    return (num/denom)"
   ]
  },
  {
   "cell_type": "code",
   "execution_count": null,
   "metadata": {},
   "outputs": [],
   "source": [
    "def genCurve(k, p, time_start, time_stop, frame_rate, file_name, plot=True):\n",
    "    if (time_stop - time_start > 6.28 ):\n",
    "        print(\"WARNING: Your time range is bigger than 2*pi - this will generate a closed loop!\")\n",
    "    time_t = np.arange(time_start, time_stop, 1/frame_rate)\n",
    "\n",
    "    # Coefficients - 1 x K\n",
    "    # Rename to coefficient generator\n",
    "    a_k = decreasingSeqGen(p, k)\n",
    "    b_k = decreasingSeqGen(p, k)\n",
    "    c_k = decreasingSeqGen(p, k)\n",
    "    d_k = decreasingSeqGen(p, k)\n",
    "\n",
    "    x_fun = genTrigFun(a_k, b_k, k)\n",
    "    y_fun = genTrigFun(c_k, d_k, k)\n",
    "\n",
    "    # Coordinates - 1 x len(TIME_T)\n",
    "    x = x_fun(time_t)\n",
    "    y = y_fun(time_t)\n",
    "\n",
    "    # Speed and curvature - 1 x len(TIME_T)\n",
    "    spd = speed(x, y)\n",
    "    crv = curvature(x, y)\n",
    "    \n",
    "    if(plot):\n",
    "        # Plots\n",
    "        plt.subplots_adjust(left=None, bottom=None, right=None, top=None, wspace=0.5, hspace=0.5)\n",
    "        plt.subplot(221)\n",
    "        plt.plot(x, y)\n",
    "        plt.title(\"Plane Curve\")\n",
    "\n",
    "        plt.subplot(222)\n",
    "        kSeq = np.arange(0, k, 1)\n",
    "        plt.plot(kSeq, a_k)\n",
    "        plt.plot(kSeq, b_k)\n",
    "        plt.plot(kSeq, c_k)\n",
    "        plt.plot(kSeq, d_k)\n",
    "        plt.title(\"Coefficients\")\n",
    "\n",
    "        plt.subplot(223)\n",
    "        plt.plot(time_t, spd)\n",
    "        plt.title(\"Speed\")\n",
    "\n",
    "        plt.subplot(224)\n",
    "        plt.plot(time_t, crv)\n",
    "        plt.title(\"Curvature\")\n",
    "        plt.show()\n",
    "\n",
    "    # Transform data into dataframe\n",
    "    df_t = pd.DataFrame((x, y, spd, crv))\n",
    "    df = df_t.transpose()\n",
    "    df.columns = ['X', 'Y', 'SPEED', 'CURVATURE']\n",
    "    \n",
    "    # Export csv\n",
    "    data_file_csv = 'Curve Data/data_' + file_name + '.csv'\n",
    "    df.to_csv(data_file_csv)\n",
    "    \n",
    "    summaryStats = df.describe()\n",
    "    summary_file_csv = 'Curve Data/summary_stats_' + file_name + '.csv'\n",
    "    summaryStats.to_csv(summary_file_csv)\n",
    "    return[df, summaryStats]"
   ]
  },
  {
   "cell_type": "code",
   "execution_count": 139,
   "metadata": {},
   "outputs": [],
   "source": [
    "N = 1000\n",
    "\n",
    "def genNCurves(n, bool_plot):\n",
    "    for i in range(n):\n",
    "                 #k   p  start   stop    frame rate    #file_name         #plot\n",
    "        genCurve(100, 2, 0,      3,      60,           ('curve' + str(i)), plot = bool_plot)[0]\n",
    "\n",
    "genNCurves(N, False)\n",
    "\n",
    "def varStats (var_str):\n",
    "    df = pd.DataFrame(columns = [\"count\", \"mean\", \"std\", \"min\", \"25%\", \"50%\", \"75%\", \"max\"])\n",
    "    for i in range(N):\n",
    "        curve_i = pd.read_csv(\"Curve Data/summary_stats_curve\" + str(i) + \".csv\")\n",
    "        row = pd.DataFrame(curve_i[var_str]).T\n",
    "        row.columns = [\"count\", \"mean\", \"std\", \"min\", \"25%\", \"50%\", \"75%\", \"max\"]\n",
    "        df = df.append(row)\n",
    "    return df\n",
    "\n",
    "allVarStats = pd.DataFrame(columns = [\"count\", \"mean\", \"std\", \"min\", \"25%\", \"50%\", \"75%\", \"max\"])\n",
    "for df in (varStats('X'), varStats('Y'), varStats('SPEED'), varStats('CURVATURE')):\n",
    "    allVarStats = allVarStats.append(df)\n",
    "    \n",
    "allVarStats.to_csv('summary_stats_' + str(N) + '_curves.csv')"
   ]
  },
  {
   "cell_type": "markdown",
   "metadata": {},
   "source": [
    "# Finding Local Max/Mins"
   ]
  },
  {
   "cell_type": "code",
   "execution_count": 49,
   "metadata": {},
   "outputs": [
    {
     "data": {
      "text/html": [
       "<div>\n",
       "<style scoped>\n",
       "    .dataframe tbody tr th:only-of-type {\n",
       "        vertical-align: middle;\n",
       "    }\n",
       "\n",
       "    .dataframe tbody tr th {\n",
       "        vertical-align: top;\n",
       "    }\n",
       "\n",
       "    .dataframe thead th {\n",
       "        text-align: right;\n",
       "    }\n",
       "</style>\n",
       "<table border=\"1\" class=\"dataframe\">\n",
       "  <thead>\n",
       "    <tr style=\"text-align: right;\">\n",
       "      <th></th>\n",
       "      <th>X</th>\n",
       "      <th>Y</th>\n",
       "      <th>SPEED</th>\n",
       "      <th>CURVATURE</th>\n",
       "    </tr>\n",
       "  </thead>\n",
       "  <tbody>\n",
       "    <tr>\n",
       "      <td>count</td>\n",
       "      <td>240.000000</td>\n",
       "      <td>240.000000</td>\n",
       "      <td>240.000000</td>\n",
       "      <td>240.000000</td>\n",
       "    </tr>\n",
       "    <tr>\n",
       "      <td>mean</td>\n",
       "      <td>0.555999</td>\n",
       "      <td>-1.077454</td>\n",
       "      <td>0.010676</td>\n",
       "      <td>38.582177</td>\n",
       "    </tr>\n",
       "    <tr>\n",
       "      <td>std</td>\n",
       "      <td>0.161483</td>\n",
       "      <td>0.110497</td>\n",
       "      <td>0.004766</td>\n",
       "      <td>101.403873</td>\n",
       "    </tr>\n",
       "    <tr>\n",
       "      <td>min</td>\n",
       "      <td>0.270298</td>\n",
       "      <td>-1.332210</td>\n",
       "      <td>0.001845</td>\n",
       "      <td>0.020647</td>\n",
       "    </tr>\n",
       "    <tr>\n",
       "      <td>25%</td>\n",
       "      <td>0.414482</td>\n",
       "      <td>-1.139568</td>\n",
       "      <td>0.007353</td>\n",
       "      <td>3.855816</td>\n",
       "    </tr>\n",
       "    <tr>\n",
       "      <td>50%</td>\n",
       "      <td>0.564230</td>\n",
       "      <td>-1.073120</td>\n",
       "      <td>0.010187</td>\n",
       "      <td>9.737347</td>\n",
       "    </tr>\n",
       "    <tr>\n",
       "      <td>75%</td>\n",
       "      <td>0.713000</td>\n",
       "      <td>-1.002975</td>\n",
       "      <td>0.013822</td>\n",
       "      <td>28.243699</td>\n",
       "    </tr>\n",
       "    <tr>\n",
       "      <td>max</td>\n",
       "      <td>0.803869</td>\n",
       "      <td>-0.900439</td>\n",
       "      <td>0.022417</td>\n",
       "      <td>699.424129</td>\n",
       "    </tr>\n",
       "  </tbody>\n",
       "</table>\n",
       "</div>"
      ],
      "text/plain": [
       "                X           Y       SPEED   CURVATURE\n",
       "count  240.000000  240.000000  240.000000  240.000000\n",
       "mean     0.555999   -1.077454    0.010676   38.582177\n",
       "std      0.161483    0.110497    0.004766  101.403873\n",
       "min      0.270298   -1.332210    0.001845    0.020647\n",
       "25%      0.414482   -1.139568    0.007353    3.855816\n",
       "50%      0.564230   -1.073120    0.010187    9.737347\n",
       "75%      0.713000   -1.002975    0.013822   28.243699\n",
       "max      0.803869   -0.900439    0.022417  699.424129"
      ]
     },
     "execution_count": 49,
     "metadata": {},
     "output_type": "execute_result"
    }
   ],
   "source": [
    "genCurve(100, 2, 3, 7, 60, 'curve00', plot = False)[1]"
   ]
  },
  {
   "cell_type": "code",
   "execution_count": 67,
   "metadata": {},
   "outputs": [],
   "source": [
    "from scipy.signal import argrelextrema\n",
    "\n",
    "data = genCurve(100, 2, 3, 7, 60, 'curve02', plot = False)[0]\n",
    "summary = genCurve(100, 2, 3, 7, 60, 'curve02', plot = False)[1]\n",
    "\n",
    "count = int(summary['X']['count'])"
   ]
  },
  {
   "cell_type": "code",
   "execution_count": 74,
   "metadata": {},
   "outputs": [],
   "source": [
    "df = data\n",
    "n = 2 # number of points to be checked before and after \n",
    "# Find local peaks\n",
    "df['min_crv'] = df.iloc[argrelextrema(df.CURVATURE.values, np.less_equal, order=n)[0]]['CURVATURE']\n",
    "df['max_crv'] = df.iloc[argrelextrema(df.CURVATURE.values, np.greater_equal, order=n)[0]]['CURVATURE']\n",
    "\n",
    "df['min_spd'] = df.iloc[argrelextrema(df.SPEED.values, np.less_equal, order=n)[0]]['SPEED']\n",
    "df['max_spd'] = df.iloc[argrelextrema(df.SPEED.values, np.greater_equal, order=n)[0]]['SPEED']"
   ]
  },
  {
   "cell_type": "code",
   "execution_count": 75,
   "metadata": {},
   "outputs": [],
   "source": [
    "#filter according to mean\n",
    "for i in range(count):\n",
    "    if df['min_crv'][i] > np.mean(df['min_crv']):\n",
    "        df['min_crv'][i] = float(\"NaN\")\n",
    "        \n",
    "#filter according to mean\n",
    "for i in range(count):\n",
    "    if df['max_crv'][i] < np.mean(df['max_crv']):\n",
    "        df['max_crv'][i] = float(\"NaN\")\n",
    "\n",
    "#filter according to mean\n",
    "for i in range(count):\n",
    "    if df['min_spd'][i] > np.mean(df['min_spd']):\n",
    "        df['min_spd'][i] = float(\"NaN\")\n",
    "\n",
    "#filter according to mean\n",
    "for i in range(count):\n",
    "    if df['max_spd'][i] < np.mean(df['max_spd']):\n",
    "        df['max_spd'][i] = float(\"NaN\")"
   ]
  },
  {
   "cell_type": "code",
   "execution_count": 76,
   "metadata": {},
   "outputs": [
    {
     "data": {
      "image/png": "[encoded data removed]",
      "text/plain": [
       "<Figure size 432x288 with 1 Axes>"
      ]
     },
     "metadata": {
      "needs_background": "light"
     },
     "output_type": "display_data"
    }
   ],
   "source": [
    "# Plot results\n",
    "plt.scatter(df.index, df['min_crv'], c='r')\n",
    "plt.scatter(df.index, df['max_crv'], c='g')\n",
    "plt.plot(df.index, df['CURVATURE'])\n",
    "plt.show()"
   ]
  },
  {
   "cell_type": "code",
   "execution_count": null,
   "metadata": {},
   "outputs": [],
   "source": [
    "# Plot results\n",
    "plt.scatter(df.index, df['min_spd'], c='r')\n",
    "plt.scatter(df.index, df['max_spd'], c='g')\n",
    "plt.plot(df.index, df['SPEED'])\n",
    "plt.show()"
   ]
  },
  {
   "cell_type": "code",
   "execution_count": null,
   "metadata": {},
   "outputs": [],
   "source": []
  },
  {
   "cell_type": "code",
   "execution_count": null,
   "metadata": {},
   "outputs": [],
   "source": []
  },
  {
   "cell_type": "code",
   "execution_count": null,
   "metadata": {},
   "outputs": [],
   "source": []
  }
 ],
 "metadata": {
  "kernelspec": {
   "display_name": "Python 3",
   "language": "python",
   "name": "python3"
  },
  "language_info": {
   "codemirror_mode": {
    "name": "ipython",
    "version": 3
   },
   "file_extension": ".py",
   "mimetype": "text/x-python",
   "name": "python",
   "nbconvert_exporter": "python",
   "pygments_lexer": "ipython3",
   "version": "3.7.4"
  }
 },
 "nbformat": 4,
 "nbformat_minor": 2
}
